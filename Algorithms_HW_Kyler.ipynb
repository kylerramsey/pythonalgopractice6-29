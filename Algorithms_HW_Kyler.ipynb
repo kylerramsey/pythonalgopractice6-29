{
 "cells": [
  {
   "cell_type": "markdown",
   "metadata": {},
   "source": [
    "# Cl"
   ]
  },
  {
   "cell_type": "markdown",
   "metadata": {},
   "source": [
    "## Tasks Today:\n",
    " \n",
    "1) <b>In-Place Algorithms</b> <br>\n",
    " &nbsp;&nbsp;&nbsp;&nbsp; a) Syntax <br>\n",
    " &nbsp;&nbsp;&nbsp;&nbsp; a) Out of Place Algorithm <br>\n",
    " &nbsp;&nbsp;&nbsp;&nbsp; b) In-Class Exercise #1 <br>\n",
    "2) <b>Two Pointers</b> <br>\n",
    "3) <b>Linked Lists</b> <br>\n",
    "4) <b>Merge Sort</b> <br>\n",
    " &nbsp;&nbsp;&nbsp;&nbsp; a) Video on Algorithms <br>\n",
    " &nbsp;&nbsp;&nbsp;&nbsp; b) How it Works <br>\n",
    "5) <b>Exercises</b> <br>\n",
    " &nbsp;&nbsp;&nbsp;&nbsp; a) Exercise #1 - Reverse a List in Place Using an In-Place Algorithm <br>\n",
    " &nbsp;&nbsp;&nbsp;&nbsp; b) Exercise #2 - Find Distinct Words <br>\n",
    " &nbsp;&nbsp;&nbsp;&nbsp; c) Exercise #3 - Write a program to implement a Linear Search Algorithm. <br>"
   ]
  },
  {
   "cell_type": "markdown",
   "metadata": {},
   "source": [
    "## In-Place Algorithms"
   ]
  },
  {
   "cell_type": "markdown",
   "metadata": {},
   "source": [
    "#### Syntax"
   ]
  },
  {
   "cell_type": "code",
   "execution_count": null,
   "metadata": {},
   "outputs": [],
   "source": []
  },
  {
   "cell_type": "code",
   "execution_count": 26,
   "metadata": {},
   "outputs": [
    {
     "name": "stdout",
     "output_type": "stream",
     "text": [
      "[1, 2, 3]\n",
      "Mem address for b:  0x1db7bd4ea00\n",
      "Mem address for a:  0x1db7bd4ea00\n",
      "[1, 2, 3, 4]\n"
     ]
    }
   ],
   "source": [
    "def test(a):\n",
    "    print(\"Mem address for a: \", hex(id(a)))\n",
    "    a.append(4)\n",
    "    \n",
    "b = [1,2,3]\n",
    "print(b)\n",
    "print(\"Mem address for b: \", hex(id(b)))\n",
    "test(b)\n",
    "print(b)"
   ]
  },
  {
   "cell_type": "code",
   "execution_count": 31,
   "metadata": {},
   "outputs": [
    {
     "name": "stdout",
     "output_type": "stream",
     "text": [
      "Mem address for a:  0x1db7be711c0\n",
      "Mem address for a:  0x1db7be711c0\n"
     ]
    }
   ],
   "source": [
    "a = [1,2,3]\n",
    "b = a\n",
    "\n",
    "print(\"Mem address for a: \", hex(id(a)))\n",
    "print(\"Mem address for a: \", hex(id(b)))\n"
   ]
  },
  {
   "cell_type": "code",
   "execution_count": 37,
   "metadata": {},
   "outputs": [
    {
     "name": "stdout",
     "output_type": "stream",
     "text": [
      "Chris\n",
      "Josh\n",
      "Lucas\n"
     ]
    }
   ],
   "source": [
    "a = \"Lucas\"\n",
    "b = \"Chris\"\n",
    "c = \"Josh\"\n",
    "\n",
    "a, b, c = b, c, a\n",
    "\n",
    "print(a)\n",
    "print(b)\n",
    "print(c)"
   ]
  },
  {
   "cell_type": "code",
   "execution_count": 36,
   "metadata": {},
   "outputs": [
    {
     "name": "stdout",
     "output_type": "stream",
     "text": [
      "Chris\n",
      "Lucas\n"
     ]
    }
   ],
   "source": [
    "a = \"Lucas\"\n",
    "b = \"Chris\"\n",
    "\n",
    "tmp = a\n",
    "a = b\n",
    "b = tmp\n",
    "\n",
    "print(a)\n",
    "print(b)"
   ]
  },
  {
   "cell_type": "code",
   "execution_count": 44,
   "metadata": {},
   "outputs": [
    {
     "name": "stdout",
     "output_type": "stream",
     "text": [
      "[1, 2] [3, 4]\n",
      "[4, 3] [2, 1]\n"
     ]
    }
   ],
   "source": [
    "def swap(a_list, b_list):\n",
    "    a_list[0], a_list[1], b_list[0], b_list[1] = b_list[1], b_list[0], a_list[1], a_list[0]\n",
    "    \n",
    "#           3.   2.  1.  0.      \n",
    "my_list = [  1,  2]\n",
    "my_list2 = [3, 4]\n",
    "\n",
    "print(my_list, my_list2)\n",
    "swap(my_list, my_list2)\n",
    "print(my_list, my_list2)\n"
   ]
  },
  {
   "cell_type": "markdown",
   "metadata": {},
   "source": [
    "#### Out of Place Algorithm"
   ]
  },
  {
   "cell_type": "code",
   "execution_count": 29,
   "metadata": {},
   "outputs": [
    {
     "name": "stdout",
     "output_type": "stream",
     "text": [
      "[1, 2, 3]\n",
      "Mem address for b:  0x1db7be72dc0\n",
      "Mem address for a:  0x1db7be71480\n",
      "Mem address for b:  0x1db7be71480\n",
      "[1, 2, 3, 4]\n"
     ]
    }
   ],
   "source": [
    "def test(a):\n",
    "    a = a[:]\n",
    "    print(\"Mem address for a: \", hex(id(a)))\n",
    "    a.append(4)\n",
    "    return a\n",
    "    \n",
    "b = [1,2,3]\n",
    "print(b)\n",
    "print(\"Mem address for b: \", hex(id(b)))\n",
    "b = test(b)\n",
    "print(\"Mem address for b: \", hex(id(b)))\n",
    "print(b)"
   ]
  },
  {
   "cell_type": "code",
   "execution_count": 51,
   "metadata": {},
   "outputs": [
    {
     "name": "stdout",
     "output_type": "stream",
     "text": [
      "[1, 2]\n",
      "[2, 1] [2, 1]\n"
     ]
    }
   ],
   "source": [
    "def swap(a_list):\n",
    "    a_list = a_list[:]\n",
    "    a_list[0], a_list[1] = a_list[1], a_list[0]\n",
    "    return a_list\n",
    "    \n",
    "#           3.   2.  1.  0.      \n",
    "my_list = [  1,  2]\n",
    "\n",
    "print(my_list)\n",
    "my_list2 = swap(my_list)\n",
    "print(my_list, my_list2)"
   ]
  },
  {
   "cell_type": "markdown",
   "metadata": {},
   "source": [
    "#### In-Class Exercise #1 <br>\n",
    "<p>Write a function that takes in four arguments (list, index1, index2, index3), and swaps those three positions in the list passed in.</p>"
   ]
  },
  {
   "cell_type": "code",
   "execution_count": null,
   "metadata": {},
   "outputs": [],
   "source": [
    "aList = [10, 4, 3, 8, 4, 2, 6]\n",
    "\n",
    "# In place version\n",
    "def inplaceSwap(l_1,index1,index2,index3):\n",
    "    l_1[index1], l_1[index2], l_1[index3]= l_1[index3], l_1[index1], l_1[index2]\n",
    "    \n",
    "inplaceSwap(aList,1,2,3)\n",
    "print(aList)\n",
    "\n",
    "# Out of place version\n",
    "def outplaceSwap(l_1,index1,index2,index3):\n",
    "    l_1= l_1[:]\n",
    "    l_1[index1], l_1[index2], l_1[index3]= l_1[index3], l_1[index1], l_1[index2]\n",
    "    \n",
    "    return l_1\n",
    "    \n",
    "print(outplaceSwap(aList,1,2,3))\n"
   ]
  },
  {
   "cell_type": "markdown",
   "metadata": {},
   "source": [
    "## Two Pointers"
   ]
  },
  {
   "cell_type": "markdown",
   "metadata": {},
   "source": [
    "#### Syntax"
   ]
  },
  {
   "cell_type": "code",
   "execution_count": 60,
   "metadata": {},
   "outputs": [
    {
     "name": "stdout",
     "output_type": "stream",
     "text": [
      "[5, 4, 3, 2, 1]\n"
     ]
    }
   ],
   "source": [
    "\n",
    "def reverse_list(a_list):\n",
    "    a_list = a_list[:]\n",
    "    \n",
    "    left = 0\n",
    "    right = len(a_list) - 1\n",
    "    while left < right:\n",
    "        a_list[left], a_list[right] = a_list[right], a_list[left]\n",
    "        left += 1\n",
    "        right -= 1\n",
    "        \n",
    "    return a_list\n",
    "    \n",
    "    \n",
    "print(reverse_list([1,2,3,4,5]))"
   ]
  },
  {
   "cell_type": "code",
   "execution_count": 62,
   "metadata": {},
   "outputs": [
    {
     "data": {
      "text/plain": [
       "[2]"
      ]
     },
     "execution_count": 62,
     "metadata": {},
     "output_type": "execute_result"
    }
   ],
   "source": [
    "a_list = [1,2,3]\n",
    "b_list = a_list[:]\n",
    "\n",
    "for i in b_list:\n",
    "    if i % 2 == 1:\n",
    "        a_list.remove(i)\n",
    "        \n",
    "a_list"
   ]
  },
  {
   "cell_type": "code",
   "execution_count": 64,
   "metadata": {},
   "outputs": [
    {
     "name": "stdout",
     "output_type": "stream",
     "text": [
      "0\n",
      "1\n",
      "2\n",
      "0\n",
      "3\n",
      "4\n",
      "0\n",
      "5\n",
      "6\n"
     ]
    }
   ],
   "source": [
    "some_list = [1,2,3,4,5,6]\n",
    "i = 0\n",
    "while i < len(some_list):\n",
    "    print(i),                         \n",
    "    print(some_list.pop(0))               \n",
    "    print(some_list.pop(0))"
   ]
  },
  {
   "cell_type": "code",
   "execution_count": 66,
   "metadata": {
    "scrolled": true
   },
   "outputs": [
    {
     "name": "stdout",
     "output_type": "stream",
     "text": [
      "0\n",
      "0\n",
      "1\n",
      "3\n",
      "2\n",
      "3\n",
      "6\n",
      "4\n",
      "5\n",
      "9\n",
      "6\n",
      "7\n",
      "12\n",
      "8\n",
      "9\n",
      "15\n",
      "10\n",
      "11\n",
      "18\n",
      "12\n",
      "13\n",
      "21\n",
      "14\n",
      "15\n",
      "24\n",
      "16\n",
      "17\n",
      "27\n",
      "18\n",
      "19\n",
      "30\n",
      "20\n",
      "21\n",
      "33\n",
      "22\n",
      "23\n",
      "36\n",
      "24\n",
      "25\n",
      "39\n",
      "26\n",
      "27\n",
      "42\n",
      "28\n",
      "29\n",
      "45\n",
      "30\n",
      "31\n",
      "48\n",
      "32\n",
      "33\n",
      "51\n",
      "34\n",
      "35\n",
      "54\n",
      "36\n",
      "37\n",
      "57\n",
      "38\n",
      "39\n",
      "60\n",
      "40\n",
      "41\n",
      "63\n",
      "42\n",
      "43\n",
      "66\n",
      "44\n",
      "45\n",
      "69\n",
      "46\n",
      "47\n",
      "72\n",
      "48\n",
      "49\n",
      "75\n",
      "50\n",
      "51\n",
      "78\n",
      "52\n",
      "53\n",
      "81\n",
      "54\n",
      "55\n",
      "84\n",
      "56\n",
      "57\n",
      "87\n",
      "58\n",
      "59\n",
      "90\n",
      "60\n",
      "61\n",
      "93\n",
      "62\n",
      "63\n",
      "96\n",
      "64\n",
      "65\n",
      "99\n",
      "66\n",
      "67\n"
     ]
    }
   ],
   "source": [
    "l  = list(range(100))                         \n",
    "for i in l:                         \n",
    "    print(i)                         \n",
    "    print(l.pop(0))             \n",
    "    print(l.pop(0))"
   ]
  },
  {
   "cell_type": "markdown",
   "metadata": {},
   "source": [
    "#### Video of Algorithms <br>\n",
    "<p>Watch the video about algorithms.</p>\n",
    "\n",
    "https://www.youtube.com/watch?v=Q9HjeFD62Uk\n",
    "\n",
    "https://www.youtube.com/watch?v=kPRA0W1kECg\n",
    "\n",
    "https://www.youtube.com/watch?v=ZZuD6iUe3Pc"
   ]
  },
  {
   "cell_type": "markdown",
   "metadata": {},
   "source": [
    "# Sorting Algorithms"
   ]
  },
  {
   "cell_type": "markdown",
   "metadata": {},
   "source": [
    "#### Bubble Sort\n",
    "\n",
    "Worst Case: O(n^2) Time - O(1) Space"
   ]
  },
  {
   "cell_type": "code",
   "execution_count": 3,
   "metadata": {},
   "outputs": [
    {
     "name": "stdout",
     "output_type": "stream",
     "text": [
      "[5, 10, 11, 15, 100]\n"
     ]
    }
   ],
   "source": [
    "input_list = [11,10,5,15,100]\n",
    "\n",
    "def bubble_sort(a_list):\n",
    "    a_list = a_list[:]\n",
    "    end_index = len(a_list) - 1\n",
    "    is_sorted = False\n",
    "    while not is_sorted:\n",
    "        is_sorted = True\n",
    "        for i in range(end_index):\n",
    "            if a_list[i] > a_list[i+1]:\n",
    "                a_list[i], a_list[i+1] = a_list[i+1], a_list[i]\n",
    "                is_sorted = False\n",
    "                \n",
    "        end_index -= 1\n",
    "\n",
    "    return a_list\n",
    "        \n",
    "print(bubble_sort(input_list))"
   ]
  },
  {
   "cell_type": "code",
   "execution_count": null,
   "metadata": {},
   "outputs": [],
   "source": []
  },
  {
   "cell_type": "markdown",
   "metadata": {},
   "source": [
    "##### Insertion Sort\n",
    "\n",
    "Worst Case: O(n^2) time - O(1)space"
   ]
  },
  {
   "cell_type": "code",
   "execution_count": 7,
   "metadata": {},
   "outputs": [
    {
     "name": "stdout",
     "output_type": "stream",
     "text": [
      "[5, 10, 11, 15, 100]\n"
     ]
    }
   ],
   "source": [
    "input_list = [11,10,5,15,100]\n",
    "\n",
    "def insertion_sort(a_list):\n",
    "    a_list = a_list[:]\n",
    "    for i in range(1, len(a_list)): # range(start_index, end_index)\n",
    "        j = i\n",
    "        while j > 0 and a_list[j] < a_list[j - 1]:\n",
    "            a_list[j], a_list[j-1] = a_list[j-1], a_list[j]\n",
    "            j -= 1\n",
    "            \n",
    "    return a_list\n",
    "\n",
    "print(insertion_sort(input_list))"
   ]
  },
  {
   "cell_type": "code",
   "execution_count": 6,
   "metadata": {},
   "outputs": [
    {
     "data": {
      "text/plain": [
       "[1, 2, 3, 4]"
      ]
     },
     "execution_count": 6,
     "metadata": {},
     "output_type": "execute_result"
    }
   ],
   "source": [
    "list(range(1, len([1,2,3,4,5])))"
   ]
  },
  {
   "cell_type": "markdown",
   "metadata": {},
   "source": [
    "## Merge Sort"
   ]
  },
  {
   "cell_type": "markdown",
   "metadata": {},
   "source": [
    "#### How it Works"
   ]
  },
  {
   "cell_type": "code",
   "execution_count": 19,
   "metadata": {},
   "outputs": [
    {
     "name": "stdout",
     "output_type": "stream",
     "text": [
      "Start splitting:  [11, 10, 5, 15, 100]\n",
      "Start splitting:  [11, 10]\n",
      "Start splitting:  [11]\n",
      "Start splitting:  [10]\n",
      "Start splitting:  [5, 15, 100]\n",
      "Start splitting:  [5]\n",
      "Start splitting:  [15, 100]\n",
      "Start splitting:  [15]\n",
      "Start splitting:  [100]\n",
      "[5, 10, 11, 15, 100]\n"
     ]
    }
   ],
   "source": [
    "# Step 1 : Split everything as evenly as possible, into its own group\n",
    "# Step 2 : Move from left to right merging our groups together\n",
    "# Step 3 : Compare your items and merge into the correct position\n",
    "# Step 4 : Continue until the array is sorted\n",
    "\n",
    "input_list = [11,10,5,15,100]\n",
    "\n",
    "def merge_sort(a_list):\n",
    "    print(\"Start splitting: \", a_list)\n",
    "    \n",
    "    if len(a_list) > 1:\n",
    "        mid = len(a_list) // 2\n",
    "        left_half = a_list[:mid]\n",
    "        right_half = a_list[mid:]\n",
    "        \n",
    "        merge_sort(left_half)\n",
    "        merge_sort(right_half)\n",
    "        \n",
    "        i = 0 # pointer for the left half\n",
    "        j = 0 # pointer for the right half\n",
    "        k = 0 # pointer for the main array\n",
    "        \n",
    "        # Step 2, comparing the left and right halves\n",
    "        while i < len(left_half) and j < len(right_half):\n",
    "            if left_half[i] < right_half[j]:\n",
    "                a_list[k] = left_half[i]\n",
    "                i += 1\n",
    "            else:\n",
    "                a_list[k] = right_half[j]\n",
    "                j += 1\n",
    "                \n",
    "            k += 1\n",
    "            \n",
    "        # Step 3, Compare our items and merge in the correct position\n",
    "        while i < len(left_half):\n",
    "            a_list[k] = left_half[i]\n",
    "            i += 1\n",
    "            k += 1\n",
    "            \n",
    "        while j < len(right_half):\n",
    "            a_list[k] = right_half[j]\n",
    "            j += 1\n",
    "            k += 1\n",
    "            \n",
    "    return a_list\n",
    "            \n",
    "        \n",
    "print(merge_sort(input_list))"
   ]
  },
  {
   "cell_type": "markdown",
   "metadata": {},
   "source": [
    "# Binary Search\n",
    "\n",
    "The Binary Search algorithm works by finding the number in the middle of a given array and comparing it to the target. Given that the array is sorted\n",
    "\n",
    "* The worst case run time for this algorithm is `O(log(n))`"
   ]
  },
  {
   "cell_type": "code",
   "execution_count": 20,
   "metadata": {},
   "outputs": [
    {
     "data": {
      "text/plain": [
       "2"
      ]
     },
     "execution_count": 20,
     "metadata": {},
     "output_type": "execute_result"
    }
   ],
   "source": [
    "a_list = [1,5,8,9]\n",
    "\n",
    "a_list.index(8)"
   ]
  },
  {
   "cell_type": "code",
   "execution_count": 22,
   "metadata": {},
   "outputs": [
    {
     "data": {
      "text/plain": [
       "2"
      ]
     },
     "execution_count": 22,
     "metadata": {},
     "output_type": "execute_result"
    }
   ],
   "source": [
    "# Search implementation with just iteration\n",
    "# O(n)\n",
    "\n",
    "def search(a_list, num):\n",
    "    for idx, curr_num in enumerate(a_list):\n",
    "        if num == curr_num:\n",
    "            return idx\n",
    "        \n",
    "search([1,5,8,9], 8)"
   ]
  },
  {
   "cell_type": "code",
   "execution_count": null,
   "metadata": {},
   "outputs": [],
   "source": [
    "# Step 1 : Find the middle index of the array\n",
    "# Step 2 : If the value at the middle index is greater than the input, narrow search to the left half.\n",
    "#          If the value is equal, return the middle index\n",
    "#          Otherwise, narrow the search to the right\n",
    "# Step 3 : Repeat steps 1 & 2 until the value at the index is equal to the search value"
   ]
  },
  {
   "cell_type": "code",
   "execution_count": 8,
   "metadata": {},
   "outputs": [
    {
     "data": {
      "text/plain": [
       "4"
      ]
     },
     "execution_count": 8,
     "metadata": {},
     "output_type": "execute_result"
    }
   ],
   "source": [
    "def binary_search(a_list, target):\n",
    "    mid = len(a_list) // 2\n",
    "    \n",
    "    if a_list[mid] == target:\n",
    "        return mid\n",
    "    elif a_list[mid] > target:\n",
    "        return binary_search(a_list[:mid], target)\n",
    "    else:\n",
    "        return mid + binary_search(a_list[mid:], target)\n",
    "    \n",
    "    \n",
    "binary_search([1,5,8,9, 10], 10)"
   ]
  },
  {
   "cell_type": "code",
   "execution_count": 37,
   "metadata": {},
   "outputs": [
    {
     "data": {
      "text/plain": [
       "2"
      ]
     },
     "execution_count": 37,
     "metadata": {},
     "output_type": "execute_result"
    }
   ],
   "source": [
    "def binary_search(aList, target):\n",
    "    mid = len(aList) // 2\n",
    "    \n",
    "    if aList[mid] == target:\n",
    "        return mid\n",
    "    elif aList[mid] > target:\n",
    "        return binary_search(aList[:mid], target)\n",
    "    else:\n",
    "        return binary_search(aList[mid:], target)\n",
    "        \n",
    "\n",
    "binary_search([1,5,8,9], 8)\n"
   ]
  },
  {
   "cell_type": "markdown",
   "metadata": {},
   "source": [
    "# Exercises"
   ]
  },
  {
   "cell_type": "markdown",
   "metadata": {},
   "source": [
    "### Exercise #1 <br>\n",
    "<p>Reverse the list below in-place using an in-place algorithm.<br>For extra credit: Reverse the strings at the same time.</p>"
   ]
  },
  {
   "cell_type": "code",
   "execution_count": 22,
   "metadata": {},
   "outputs": [
    {
     "name": "stdout",
     "output_type": "stream",
     "text": [
      "['.', 'ecnetnes', 'a', 'si', 'siht']\n"
     ]
    }
   ],
   "source": [
    "words = ['this' , 'is', 'a', 'sentence', '.']\n",
    "\n",
    "# Expected Output: ['.', 'sentence', 'a', 'is', 'this']\n",
    "# Extra Credit Expected Output: ['.', 'ecnetnes', 'a', 'si', 'siht']\n",
    "\n",
    "def reverse_(a_list):\n",
    "    words[0], words[1], words[2], words[3], words[4] = words[4][::-1], words[3][::-1], words[2][::-1], words[1][::-1], words[0][::-1]\n",
    "    return words\n",
    "\n",
    "print(reverse_(words))  "
   ]
  },
  {
   "cell_type": "markdown",
   "metadata": {},
   "source": [
    "### Exercise #2 <br>\n",
    "<p>Create a function that counts how many distinct words are in the string below, then outputs a dictionary with the words as the key and the value as the amount of times that word appears in the string.<br>Should output:<br>{'a': 5,<br>\n",
    " 'abstract': 1,<br>\n",
    " 'an': 3,<br>\n",
    " 'array': 2, ... etc...</p>"
   ]
  },
  {
   "cell_type": "code",
   "execution_count": 29,
   "metadata": {},
   "outputs": [
    {
     "name": "stdout",
     "output_type": "stream",
     "text": [
      "{(1, 'function'), (1, 'into'), (1, 'value'), (4, 'hash'), (1, 'or'), (1, 'that'), (1, 'compute'), (1, 'desired'), (3, 'an'), (1, 'values.'), (2, 'array'), (5, 'a'), (1, 'keys'), (1, 'in'), (1, 'of'), (1, 'type,'), (1, 'uses'), (1, 'from'), (2, 'can'), (1, 'abstract'), (1, 'found'), (1, 'associative'), (2, 'table'), (1, 'slots'), (1, 'index'), (1, 'be'), (2, 'to'), (1, 'computing,'), (1, 'buckets'), (2, 'which'), (1, 'the'), (2, 'structure'), (1, 'is'), (2, 'map'), (2, 'data'), (1, 'implements')}\n"
     ]
    }
   ],
   "source": [
    "a_text = 'In computing, a hash table hash map is a data structure which implements an associative array abstract data type, a structure that can map keys to values. A hash table uses a hash function to compute an index into an array of buckets or slots from which the desired value can be found'.lower()\n",
    "split_text = a_text.split(' ')\n",
    "myDict = {(split_text.count(item), item) for item in split_text}\n",
    "\n",
    "print(myDict)\n"
   ]
  },
  {
   "cell_type": "markdown",
   "metadata": {},
   "source": [
    "## Exercise #3\n",
    "\n",
    "Write a program to implement a Linear Search Algorithm. Also in a comment, write the Time Complexity of the following algorithm.\n",
    "\n",
    "#### Hint: Linear Searching will require searching a list for a given number. "
   ]
  },
  {
   "cell_type": "code",
   "execution_count": 37,
   "metadata": {},
   "outputs": [
    {
     "data": {
      "text/plain": [
       "'Index of target number in array: 2'"
      ]
     },
     "execution_count": 37,
     "metadata": {},
     "output_type": "execute_result"
    }
   ],
   "source": [
    "def linear_search(arr, target):\n",
    "    for i in arr:\n",
    "        if i == target:\n",
    "            return f'Index of target number in array: {arr.index(i)}'\n",
    "    return \"target not in array\"\n",
    "\n",
    "linear_search([1, 4, 6, 7, 8, 3], 6)\n",
    "\n",
    "# time complexity : best case - O(1), worst case - O(n)"
   ]
  },
  {
   "cell_type": "code",
   "execution_count": null,
   "metadata": {},
   "outputs": [],
   "source": []
  }
 ],
 "metadata": {
  "kernelspec": {
   "display_name": "Python 3 (ipykernel)",
   "language": "python",
   "name": "python3"
  },
  "language_info": {
   "codemirror_mode": {
    "name": "ipython",
    "version": 3
   },
   "file_extension": ".py",
   "mimetype": "text/x-python",
   "name": "python",
   "nbconvert_exporter": "python",
   "pygments_lexer": "ipython3",
   "version": "3.9.7"
  }
 },
 "nbformat": 4,
 "nbformat_minor": 2
}
